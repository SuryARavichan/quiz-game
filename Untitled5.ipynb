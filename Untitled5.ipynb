{
  "nbformat": 4,
  "nbformat_minor": 0,
  "metadata": {
    "colab": {
      "name": "Untitled5.ipynb",
      "provenance": [],
      "authorship_tag": "ABX9TyOK4VRF73OQomUPpBiji5Na",
      "include_colab_link": true
    },
    "kernelspec": {
      "name": "python3",
      "display_name": "Python 3"
    },
    "language_info": {
      "name": "python"
    }
  },
  "cells": [
    {
      "cell_type": "markdown",
      "metadata": {
        "id": "view-in-github",
        "colab_type": "text"
      },
      "source": [
        "<a href=\"https://colab.research.google.com/github/SuryARavichan/quiz-game/blob/main/Untitled5.ipynb\" target=\"_parent\"><img src=\"https://colab.research.google.com/assets/colab-badge.svg\" alt=\"Open In Colab\"/></a>"
      ]
    },
    {
      "cell_type": "code",
      "metadata": {
        "colab": {
          "base_uri": "https://localhost:8080/"
        },
        "id": "I-_kmgvpVvah",
        "outputId": "4651da7c-fd63-42ad-a8fc-938b27b36017"
      },
      "source": [
        "print('welcome to the computer quiz game!')\n",
        "playleague = input('are you interested to play the game')\n",
        "if playleague.lower != 'yes':\n",
        "  quit()\n",
        "print(\"yes let's start the game!!\")\n",
        "score = 0\n",
        "answer = input('what does the AI stands for?: ')\n",
        "if answer.lower == 'artificial intelligence':\n",
        "  print('ossum, correct answer!')\n",
        "  score = score + 1\n",
        "else:\n",
        "  print('sorry, try again for the correct answer')\n",
        "answer = input('what does the ML stands for?: ')\n",
        "if answer.lower == 'machine learning':\n",
        "  print('ossum, correct answer!')\n",
        "  score = score + 1\n",
        "else:\n",
        "  print('sorry, try again for the correct answer')\n",
        "answer = input('what does the DA stands for?: ')\n",
        "if answer.lower == 'data analyst':\n",
        "  print('ossum, correct answer!')\n",
        "  score = score + 1\n",
        "else:\n",
        "  print('sorry, try again for the correct answer')\n",
        "answer = input('what does the DS stands for?: ')\n",
        "if answer.lower == 'data scientist':\n",
        "  print('ossum, correct answer!')\n",
        "  score = score + 1\n",
        "else:\n",
        "  print('sorry, try again for the correct answer')\n",
        "answer = input('what does the CPU stands for?: ')\n",
        "if answer.lower == 'central processing unit':\n",
        "  print('ossum, correct answer!')\n",
        "  score = score + 1\n",
        "else:\n",
        "  print('sorry, try again for the correct answer')\n",
        "\n",
        "print(\"you got \" + str(score) +  \" questions correct! \")\n",
        "print(\"you got \" + str((score / 4) * 100) + \"%.\")\n",
        "\n",
        "\n",
        "\n",
        "\n",
        "\n",
        "\n",
        "\n"
      ],
      "execution_count": 1,
      "outputs": [
        {
          "output_type": "stream",
          "name": "stdout",
          "text": [
            "welcome to the computer quiz game!\n",
            "are you interested to play the gameyes\n",
            "yes let's start the game!!\n",
            "what does the AI stands for?: 89\n",
            "sorry, try again for the correct answer\n",
            "what does the ML stands for?: machine learning\n",
            "sorry, try again for the correct answer\n",
            "what does the DA stands for?: 89\n",
            "sorry, try again for the correct answer\n",
            "what does the DS stands for?: 120\n",
            "sorry, try again for the correct answer\n",
            "what does the CPU stands for?: 26\n",
            "sorry, try again for the correct answer\n",
            "you got 0 questions correct! \n",
            "you got 0.0%.\n"
          ]
        }
      ]
    }
  ]
}